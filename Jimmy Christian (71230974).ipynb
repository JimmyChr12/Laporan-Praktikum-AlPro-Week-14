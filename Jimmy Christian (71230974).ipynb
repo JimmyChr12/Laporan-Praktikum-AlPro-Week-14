{
 "cells": [
  {
   "cell_type": "code",
   "execution_count": 1,
   "id": "0418f92b",
   "metadata": {},
   "outputs": [
    {
     "name": "stdout",
     "output_type": "stream",
     "text": [
      "Bukan Prima\n",
      "Prima\n",
      "Prima\n",
      "Prima\n",
      "Prima\n",
      "Bukan Prima\n",
      "Bukan Prima\n",
      "Prima\n"
     ]
    }
   ],
   "source": [
    "def prima (bil, n=2):\n",
    "    if bil <= 1:\n",
    "        return \"Bukan Prima\"\n",
    "    if n ** 2 > bil:\n",
    "        return \"Prima\"\n",
    "    elif bil % n == 0:\n",
    "        return \"Bukan Prima\"\n",
    "    return prima(bil, n+1)\n",
    "print(prima(1))\n",
    "print(prima(2))\n",
    "print(prima(13))\n",
    "print(prima(577))\n",
    "print(prima(1381))\n",
    "print(prima(1382))\n",
    "print(prima(13813))\n",
    "print(prima(107))"
   ]
  },
  {
   "cell_type": "code",
   "execution_count": 2,
   "id": "c6674697",
   "metadata": {},
   "outputs": [
    {
     "name": "stdout",
     "output_type": "stream",
     "text": [
      "Palindrom\n",
      "Bukan Palindrom\n",
      "Palindrom\n",
      "Palindrom\n",
      "Palindrom\n",
      "Bukan Palindrom\n",
      "Palindrom\n",
      "Bukan Palindrom\n"
     ]
    }
   ],
   "source": [
    "def palindrom (kata, n=-1, hasil = \"a\"):\n",
    "    kata = kata.lower()\n",
    "    if hasil == \"a\":\n",
    "        hasil = \"\"\n",
    "    if len(kata) == 1:\n",
    "        return \"Bukan Palindrom\"\n",
    "    if n + (len(kata)+1) == 0:\n",
    "        if kata == hasil:\n",
    "            return \"Palindrom\"\n",
    "        else:\n",
    "            return \"Bukan Palindrom\"\n",
    "    else:\n",
    "        hasil = hasil + kata[n]\n",
    "        return palindrom(kata, n-1, hasil)  \n",
    "print(palindrom(\"kasur rusak\"))\n",
    "print(palindrom(\"blog\"))\n",
    "print(palindrom(\"reviver\"))\n",
    "print(palindrom(\"eve\"))\n",
    "print(palindrom(\"kasur Ini RuSaK\"))\n",
    "print(palindrom(\"abc\"))\n",
    "print(palindrom(\"bb\"))\n",
    "print(palindrom(\"a\"))"
   ]
  },
  {
   "cell_type": "code",
   "execution_count": 3,
   "id": "6eca540e",
   "metadata": {},
   "outputs": [
    {
     "name": "stdout",
     "output_type": "stream",
     "text": [
      "16\n",
      "4\n",
      "4\n",
      "16\n"
     ]
    }
   ],
   "source": [
    "def ganjil (n, m=1):\n",
    "    hasil = 0\n",
    "    if m > n:\n",
    "        return hasil\n",
    "    else:\n",
    "        hasil += m\n",
    "    return hasil + ganjil(n, m+2)\n",
    "print(ganjil(7))\n",
    "print(ganjil(3))\n",
    "print(ganjil(4))\n",
    "print(ganjil(8))"
   ]
  },
  {
   "cell_type": "code",
   "execution_count": 4,
   "id": "b946f548",
   "metadata": {},
   "outputs": [
    {
     "name": "stdout",
     "output_type": "stream",
     "text": [
      "9\n",
      "6\n",
      "8\n",
      "41\n",
      "33\n"
     ]
    }
   ],
   "source": [
    "def jumlah_digit(kata, n=0):\n",
    "    panjang = len(kata)\n",
    "    hasil = 0\n",
    "    if n == panjang:\n",
    "        return hasil\n",
    "    else:\n",
    "        hasil += int(kata[n])\n",
    "        return hasil + jumlah_digit(kata, n+1)\n",
    "print(jumlah_digit(\"234\"))\n",
    "print(jumlah_digit(\"123\"))\n",
    "print(jumlah_digit(\"314\"))\n",
    "print(jumlah_digit(\"123876545\"))\n",
    "print(jumlah_digit(\"71230974\"))"
   ]
  },
  {
   "cell_type": "code",
   "execution_count": 5,
   "id": "e181b154",
   "metadata": {},
   "outputs": [
    {
     "name": "stdout",
     "output_type": "stream",
     "text": [
      "6\n",
      "210\n",
      "91\n",
      "91\n"
     ]
    }
   ],
   "source": [
    "def kombinasi(n, r):\n",
    "    nr = n - r\n",
    "    n = faktorial(n)\n",
    "    r = faktorial(r)\n",
    "    nr = faktorial(nr)\n",
    "    hasil = int(n / (r * nr))\n",
    "    return hasil\n",
    "def faktorial(x):\n",
    "    if x == 0 or x == 1:\n",
    "        return 1\n",
    "    else:\n",
    "        return faktorial(x-1) * x\n",
    "print(kombinasi(4,2))\n",
    "print(kombinasi(10,4))\n",
    "print(kombinasi(14,12))\n",
    "print(kombinasi(14,2))"
   ]
  }
 ],
 "metadata": {
  "kernelspec": {
   "display_name": "Python 3 (ipykernel)",
   "language": "python",
   "name": "python3"
  },
  "language_info": {
   "codemirror_mode": {
    "name": "ipython",
    "version": 3
   },
   "file_extension": ".py",
   "mimetype": "text/x-python",
   "name": "python",
   "nbconvert_exporter": "python",
   "pygments_lexer": "ipython3",
   "version": "3.11.5"
  }
 },
 "nbformat": 4,
 "nbformat_minor": 5
}
